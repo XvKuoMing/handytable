{
  "nbformat": 4,
  "nbformat_minor": 0,
  "metadata": {
    "colab": {
      "provenance": []
    },
    "kernelspec": {
      "name": "python3",
      "display_name": "Python 3"
    },
    "language_info": {
      "name": "python"
    }
  },
  "cells": [
    {
      "cell_type": "code",
      "execution_count": 6,
      "metadata": {
        "id": "4dfCdxjw3JVF"
      },
      "outputs": [],
      "source": [
        "from handytable.tables import HandyTable"
      ]
    },
    {
      "cell_type": "code",
      "source": [
        "# initializing and appearance\n",
        "\n",
        "table = HandyTable(\n",
        "    [[1, 2],\n",
        "     [3, 4],\n",
        "     [5, 6]])\n",
        "table"
      ],
      "metadata": {
        "colab": {
          "base_uri": "https://localhost:8080/",
          "height": 170
        },
        "id": "IONAwx-p4odz",
        "outputId": "d0ba9fef-14a7-4838-ba04-1ab99b9ff90e"
      },
      "execution_count": 7,
      "outputs": [
        {
          "output_type": "execute_result",
          "data": {
            "text/plain": [
              "['', 'A', 'B']\n",
              "[0, 1, 2]\n",
              "[1, 3, 4]\n",
              "[2, 5, 6]"
            ],
            "text/html": [
              "<style>\n",
              "  .TableCell:hover {\n",
              "    background-color: #D6EEEE;\n",
              "    }\n",
              "  table, th, td {\n",
              "    padding: 10px;\n",
              "    border: 1px solid black;\n",
              "    border-collapse: collapse;\n",
              "    }\n",
              "  </style>\n",
              "  \n",
              "    <table>\n",
              "    <tr><th></th>\n",
              "<th>A</th>\n",
              "<th>B</th></tr>\n",
              "    <tr><td><strong>0</strong></td><td class=\"TableCell\", id=\"A:0\" contenteditable>1</td>\n",
              "<td class=\"TableCell\", id=\"B:0\" contenteditable>2</td></tr>\n",
              "<tr><td><strong>1</strong></td><td class=\"TableCell\", id=\"A:1\" contenteditable>3</td>\n",
              "<td class=\"TableCell\", id=\"B:1\" contenteditable>4</td></tr>\n",
              "<tr><td><strong>2</strong></td><td class=\"TableCell\", id=\"A:2\" contenteditable>5</td>\n",
              "<td class=\"TableCell\", id=\"B:2\" contenteditable>6</td></tr>\n",
              "    </table>\n",
              "    \n",
              "    <script>\n",
              "    document.querySelectorAll(\"td[contenteditable]\").forEach(function (element) {\n",
              "      element.addEventListener(\"input\", function (e) {\n",
              "        const val = e.target.innerText;\n",
              "        const id = e.target.id;\n",
              "        google.colab.kernel.invokeFunction(\"setVal\", [val, id], {});\n",
              "      });\n",
              "    });\n",
              "    </script>\n",
              "    "
            ]
          },
          "metadata": {},
          "execution_count": 7
        }
      ]
    },
    {
      "cell_type": "markdown",
      "source": [
        "## Inserting new columns and rows with constant values"
      ],
      "metadata": {
        "id": "VzDELYsq46Y2"
      }
    },
    {
      "cell_type": "code",
      "source": [
        "# adding new column with dump value = 0\n",
        "table.insert(axis='col', where=-1, dump=0) # where specifies location of new axis(column in out case)"
      ],
      "metadata": {
        "colab": {
          "base_uri": "https://localhost:8080/",
          "height": 170
        },
        "id": "FJdy4ZAS48L2",
        "outputId": "4d0bc5f6-f607-41a6-81cc-1ac6d45120ae"
      },
      "execution_count": 8,
      "outputs": [
        {
          "output_type": "execute_result",
          "data": {
            "text/plain": [
              "['', 'A', 'B', 'C']\n",
              "[0, 1, 2, 0]\n",
              "[1, 3, 4, 0]\n",
              "[2, 5, 6, 0]"
            ],
            "text/html": [
              "<style>\n",
              "  .TableCell:hover {\n",
              "    background-color: #D6EEEE;\n",
              "    }\n",
              "  table, th, td {\n",
              "    padding: 10px;\n",
              "    border: 1px solid black;\n",
              "    border-collapse: collapse;\n",
              "    }\n",
              "  </style>\n",
              "  \n",
              "    <table>\n",
              "    <tr><th></th>\n",
              "<th>A</th>\n",
              "<th>B</th>\n",
              "<th>C</th></tr>\n",
              "    <tr><td><strong>0</strong></td><td class=\"TableCell\", id=\"A:0\" contenteditable>1</td>\n",
              "<td class=\"TableCell\", id=\"B:0\" contenteditable>2</td>\n",
              "<td class=\"TableCell\", id=\"C:0\" contenteditable>0</td></tr>\n",
              "<tr><td><strong>1</strong></td><td class=\"TableCell\", id=\"A:1\" contenteditable>3</td>\n",
              "<td class=\"TableCell\", id=\"B:1\" contenteditable>4</td>\n",
              "<td class=\"TableCell\", id=\"C:1\" contenteditable>0</td></tr>\n",
              "<tr><td><strong>2</strong></td><td class=\"TableCell\", id=\"A:2\" contenteditable>5</td>\n",
              "<td class=\"TableCell\", id=\"B:2\" contenteditable>6</td>\n",
              "<td class=\"TableCell\", id=\"C:2\" contenteditable>0</td></tr>\n",
              "    </table>\n",
              "    \n",
              "    <script>\n",
              "    document.querySelectorAll(\"td[contenteditable]\").forEach(function (element) {\n",
              "      element.addEventListener(\"input\", function (e) {\n",
              "        const val = e.target.innerText;\n",
              "        const id = e.target.id;\n",
              "        google.colab.kernel.invokeFunction(\"setVal\", [val, id], {});\n",
              "      });\n",
              "    });\n",
              "    </script>\n",
              "    "
            ]
          },
          "metadata": {},
          "execution_count": 8
        }
      ]
    },
    {
      "cell_type": "code",
      "source": [
        "# the same way it is possible to add new row\n",
        "table.insert('row', where=-1, dump=0)"
      ],
      "metadata": {
        "colab": {
          "base_uri": "https://localhost:8080/",
          "height": 209
        },
        "id": "pv77S5BL48OB",
        "outputId": "45c502ca-6036-4aa1-f87e-5d704ea65589"
      },
      "execution_count": 9,
      "outputs": [
        {
          "output_type": "execute_result",
          "data": {
            "text/plain": [
              "['', 'A', 'B', 'C']\n",
              "[0, 1, 2, 0]\n",
              "[1, 3, 4, 0]\n",
              "[2, 5, 6, 0]\n",
              "[3, 0, 0, 0]"
            ],
            "text/html": [
              "<style>\n",
              "  .TableCell:hover {\n",
              "    background-color: #D6EEEE;\n",
              "    }\n",
              "  table, th, td {\n",
              "    padding: 10px;\n",
              "    border: 1px solid black;\n",
              "    border-collapse: collapse;\n",
              "    }\n",
              "  </style>\n",
              "  \n",
              "    <table>\n",
              "    <tr><th></th>\n",
              "<th>A</th>\n",
              "<th>B</th>\n",
              "<th>C</th></tr>\n",
              "    <tr><td><strong>0</strong></td><td class=\"TableCell\", id=\"A:0\" contenteditable>1</td>\n",
              "<td class=\"TableCell\", id=\"B:0\" contenteditable>2</td>\n",
              "<td class=\"TableCell\", id=\"C:0\" contenteditable>0</td></tr>\n",
              "<tr><td><strong>1</strong></td><td class=\"TableCell\", id=\"A:1\" contenteditable>3</td>\n",
              "<td class=\"TableCell\", id=\"B:1\" contenteditable>4</td>\n",
              "<td class=\"TableCell\", id=\"C:1\" contenteditable>0</td></tr>\n",
              "<tr><td><strong>2</strong></td><td class=\"TableCell\", id=\"A:2\" contenteditable>5</td>\n",
              "<td class=\"TableCell\", id=\"B:2\" contenteditable>6</td>\n",
              "<td class=\"TableCell\", id=\"C:2\" contenteditable>0</td></tr>\n",
              "<tr><td><strong>3</strong></td><td class=\"TableCell\", id=\"A:3\" contenteditable>0</td>\n",
              "<td class=\"TableCell\", id=\"B:3\" contenteditable>0</td>\n",
              "<td class=\"TableCell\", id=\"C:3\" contenteditable>0</td></tr>\n",
              "    </table>\n",
              "    \n",
              "    <script>\n",
              "    document.querySelectorAll(\"td[contenteditable]\").forEach(function (element) {\n",
              "      element.addEventListener(\"input\", function (e) {\n",
              "        const val = e.target.innerText;\n",
              "        const id = e.target.id;\n",
              "        google.colab.kernel.invokeFunction(\"setVal\", [val, id], {});\n",
              "      });\n",
              "    });\n",
              "    </script>\n",
              "    "
            ]
          },
          "metadata": {},
          "execution_count": 9
        }
      ]
    },
    {
      "cell_type": "code",
      "source": [
        "# it is also possible to insert row/col at any location you want\n",
        "table.insert('col', 0, dump=0) # inserting new first column"
      ],
      "metadata": {
        "colab": {
          "base_uri": "https://localhost:8080/",
          "height": 209
        },
        "id": "1uAErb5j48Qb",
        "outputId": "44054075-fdda-491a-cc9b-5232193dcd08"
      },
      "execution_count": 10,
      "outputs": [
        {
          "output_type": "execute_result",
          "data": {
            "text/plain": [
              "['', 'A', 'B', 'C', 'D']\n",
              "[0, 0, 1, 2, 0]\n",
              "[1, 0, 3, 4, 0]\n",
              "[2, 0, 5, 6, 0]\n",
              "[3, 0, 0, 0, 0]"
            ],
            "text/html": [
              "<style>\n",
              "  .TableCell:hover {\n",
              "    background-color: #D6EEEE;\n",
              "    }\n",
              "  table, th, td {\n",
              "    padding: 10px;\n",
              "    border: 1px solid black;\n",
              "    border-collapse: collapse;\n",
              "    }\n",
              "  </style>\n",
              "  \n",
              "    <table>\n",
              "    <tr><th></th>\n",
              "<th>A</th>\n",
              "<th>B</th>\n",
              "<th>C</th>\n",
              "<th>D</th></tr>\n",
              "    <tr><td><strong>0</strong></td><td class=\"TableCell\", id=\"A:0\" contenteditable>0</td>\n",
              "<td class=\"TableCell\", id=\"B:0\" contenteditable>1</td>\n",
              "<td class=\"TableCell\", id=\"C:0\" contenteditable>2</td>\n",
              "<td class=\"TableCell\", id=\"D:0\" contenteditable>0</td></tr>\n",
              "<tr><td><strong>1</strong></td><td class=\"TableCell\", id=\"A:1\" contenteditable>0</td>\n",
              "<td class=\"TableCell\", id=\"B:1\" contenteditable>3</td>\n",
              "<td class=\"TableCell\", id=\"C:1\" contenteditable>4</td>\n",
              "<td class=\"TableCell\", id=\"D:1\" contenteditable>0</td></tr>\n",
              "<tr><td><strong>2</strong></td><td class=\"TableCell\", id=\"A:2\" contenteditable>0</td>\n",
              "<td class=\"TableCell\", id=\"B:2\" contenteditable>5</td>\n",
              "<td class=\"TableCell\", id=\"C:2\" contenteditable>6</td>\n",
              "<td class=\"TableCell\", id=\"D:2\" contenteditable>0</td></tr>\n",
              "<tr><td><strong>3</strong></td><td class=\"TableCell\", id=\"A:3\" contenteditable>0</td>\n",
              "<td class=\"TableCell\", id=\"B:3\" contenteditable>0</td>\n",
              "<td class=\"TableCell\", id=\"C:3\" contenteditable>0</td>\n",
              "<td class=\"TableCell\", id=\"D:3\" contenteditable>0</td></tr>\n",
              "    </table>\n",
              "    \n",
              "    <script>\n",
              "    document.querySelectorAll(\"td[contenteditable]\").forEach(function (element) {\n",
              "      element.addEventListener(\"input\", function (e) {\n",
              "        const val = e.target.innerText;\n",
              "        const id = e.target.id;\n",
              "        google.colab.kernel.invokeFunction(\"setVal\", [val, id], {});\n",
              "      });\n",
              "    });\n",
              "    </script>\n",
              "    "
            ]
          },
          "metadata": {},
          "execution_count": 10
        }
      ]
    },
    {
      "cell_type": "code",
      "source": [
        "table.insert('row', 0, dump=0) # inserting new first row"
      ],
      "metadata": {
        "colab": {
          "base_uri": "https://localhost:8080/",
          "height": 247
        },
        "id": "xCDbKOLL48TD",
        "outputId": "229b0ca1-0475-4648-9a65-cdd260d74ed0"
      },
      "execution_count": 11,
      "outputs": [
        {
          "output_type": "execute_result",
          "data": {
            "text/plain": [
              "['', 'A', 'B', 'C', 'D']\n",
              "[0, 0, 0, 0, 0]\n",
              "[1, 0, 1, 2, 0]\n",
              "[2, 0, 3, 4, 0]\n",
              "[3, 0, 5, 6, 0]\n",
              "[4, 0, 0, 0, 0]"
            ],
            "text/html": [
              "<style>\n",
              "  .TableCell:hover {\n",
              "    background-color: #D6EEEE;\n",
              "    }\n",
              "  table, th, td {\n",
              "    padding: 10px;\n",
              "    border: 1px solid black;\n",
              "    border-collapse: collapse;\n",
              "    }\n",
              "  </style>\n",
              "  \n",
              "    <table>\n",
              "    <tr><th></th>\n",
              "<th>A</th>\n",
              "<th>B</th>\n",
              "<th>C</th>\n",
              "<th>D</th></tr>\n",
              "    <tr><td><strong>0</strong></td><td class=\"TableCell\", id=\"A:0\" contenteditable>0</td>\n",
              "<td class=\"TableCell\", id=\"B:0\" contenteditable>0</td>\n",
              "<td class=\"TableCell\", id=\"C:0\" contenteditable>0</td>\n",
              "<td class=\"TableCell\", id=\"D:0\" contenteditable>0</td></tr>\n",
              "<tr><td><strong>1</strong></td><td class=\"TableCell\", id=\"A:1\" contenteditable>0</td>\n",
              "<td class=\"TableCell\", id=\"B:1\" contenteditable>1</td>\n",
              "<td class=\"TableCell\", id=\"C:1\" contenteditable>2</td>\n",
              "<td class=\"TableCell\", id=\"D:1\" contenteditable>0</td></tr>\n",
              "<tr><td><strong>2</strong></td><td class=\"TableCell\", id=\"A:2\" contenteditable>0</td>\n",
              "<td class=\"TableCell\", id=\"B:2\" contenteditable>3</td>\n",
              "<td class=\"TableCell\", id=\"C:2\" contenteditable>4</td>\n",
              "<td class=\"TableCell\", id=\"D:2\" contenteditable>0</td></tr>\n",
              "<tr><td><strong>3</strong></td><td class=\"TableCell\", id=\"A:3\" contenteditable>0</td>\n",
              "<td class=\"TableCell\", id=\"B:3\" contenteditable>5</td>\n",
              "<td class=\"TableCell\", id=\"C:3\" contenteditable>6</td>\n",
              "<td class=\"TableCell\", id=\"D:3\" contenteditable>0</td></tr>\n",
              "<tr><td><strong>4</strong></td><td class=\"TableCell\", id=\"A:4\" contenteditable>0</td>\n",
              "<td class=\"TableCell\", id=\"B:4\" contenteditable>0</td>\n",
              "<td class=\"TableCell\", id=\"C:4\" contenteditable>0</td>\n",
              "<td class=\"TableCell\", id=\"D:4\" contenteditable>0</td></tr>\n",
              "    </table>\n",
              "    \n",
              "    <script>\n",
              "    document.querySelectorAll(\"td[contenteditable]\").forEach(function (element) {\n",
              "      element.addEventListener(\"input\", function (e) {\n",
              "        const val = e.target.innerText;\n",
              "        const id = e.target.id;\n",
              "        google.colab.kernel.invokeFunction(\"setVal\", [val, id], {});\n",
              "      });\n",
              "    });\n",
              "    </script>\n",
              "    "
            ]
          },
          "metadata": {},
          "execution_count": 11
        }
      ]
    },
    {
      "cell_type": "markdown",
      "source": [
        "## Slicings"
      ],
      "metadata": {
        "id": "_XEOJ4bd5JoU"
      }
    },
    {
      "cell_type": "code",
      "source": [
        "# but let's us insert something more informative\n",
        "\n",
        "# first, delete all new rows and columns\n",
        "## there are two ways of doing that\n",
        "## 1) using indexes and reinitialize HandyTable\n",
        "## 2) selection like in excel and reinitialize HandyTable"
      ],
      "metadata": {
        "id": "jWxsoWBy48We"
      },
      "execution_count": 12,
      "outputs": []
    },
    {
      "cell_type": "code",
      "source": [
        "# using indexes\n",
        "table[1:-1, 1:-1] # first index is column, the last — row, 1:-1 <=> from second column to the pre_last, the same goes for rows"
      ],
      "metadata": {
        "colab": {
          "base_uri": "https://localhost:8080/"
        },
        "id": "D_qhWrmK5Ki8",
        "outputId": "8cb7177f-ea02-4c8c-c994-f8e193501cfb"
      },
      "execution_count": 13,
      "outputs": [
        {
          "output_type": "execute_result",
          "data": {
            "text/plain": [
              "[[1, 2], [3, 4], [5, 6]]"
            ]
          },
          "metadata": {},
          "execution_count": 13
        }
      ]
    },
    {
      "cell_type": "code",
      "source": [
        "# using selection\n",
        "table.select('B1-C3') # syntax is the following: B1 = start cell, C3- last cell, they should be divided by -"
      ],
      "metadata": {
        "colab": {
          "base_uri": "https://localhost:8080/",
          "height": 170
        },
        "id": "G72T2X3H5Kld",
        "outputId": "49e6482e-f90f-418b-9a34-ce7f015f4a5a"
      },
      "execution_count": 14,
      "outputs": [
        {
          "output_type": "execute_result",
          "data": {
            "text/plain": [
              "<handytable.tables.HandyTable.SubTable at 0x7e2ed0a8ee90>"
            ],
            "text/html": [
              "<style>\n",
              "  .TableCell:hover {\n",
              "    background-color: #D6EEEE;\n",
              "    }\n",
              "  table, th, td {\n",
              "    padding: 10px;\n",
              "    border: 1px solid black;\n",
              "    border-collapse: collapse;\n",
              "    }\n",
              "  </style>\n",
              "  \n",
              "    <table>\n",
              "    <tr><th></th>\n",
              "<th>B</th>\n",
              "<th>C</th></tr>\n",
              "    <tr><td><strong>1</strong></td><td class=\"TableCell\", id=\"B:1\" contenteditable>1</td>\n",
              "<td class=\"TableCell\", id=\"C:1\" contenteditable>2</td></tr>\n",
              "<tr><td><strong>2</strong></td><td class=\"TableCell\", id=\"B:2\" contenteditable>3</td>\n",
              "<td class=\"TableCell\", id=\"C:2\" contenteditable>4</td></tr>\n",
              "<tr><td><strong>3</strong></td><td class=\"TableCell\", id=\"B:3\" contenteditable>5</td>\n",
              "<td class=\"TableCell\", id=\"C:3\" contenteditable>6</td></tr>\n",
              "    </table>\n",
              "    \n",
              "    <script>\n",
              "    document.querySelectorAll(\"td[contenteditable]\").forEach(function (element) {\n",
              "      element.addEventListener(\"input\", function (e) {\n",
              "        const val = e.target.innerText;\n",
              "        const id = e.target.id;\n",
              "        google.colab.kernel.invokeFunction(\"setVal\", [val, id], {});\n",
              "      });\n",
              "    });\n",
              "    </script>\n",
              "    "
            ]
          },
          "metadata": {},
          "execution_count": 14
        }
      ]
    },
    {
      "cell_type": "code",
      "source": [
        "# you can also select just one cell\n",
        "table.select('B1')"
      ],
      "metadata": {
        "colab": {
          "base_uri": "https://localhost:8080/",
          "height": 94
        },
        "id": "tcVt9wiz5Kol",
        "outputId": "1f95815d-e272-4d90-88ae-24637e38334a"
      },
      "execution_count": 15,
      "outputs": [
        {
          "output_type": "execute_result",
          "data": {
            "text/plain": [
              "<handytable.tables.HandyTable.SubTable at 0x7e2ed0a8d780>"
            ],
            "text/html": [
              "<style>\n",
              "  .TableCell:hover {\n",
              "    background-color: #D6EEEE;\n",
              "    }\n",
              "  table, th, td {\n",
              "    padding: 10px;\n",
              "    border: 1px solid black;\n",
              "    border-collapse: collapse;\n",
              "    }\n",
              "  </style>\n",
              "  \n",
              "    <table>\n",
              "    <tr><th></th>\n",
              "<th>B</th></tr>\n",
              "    <tr><td><strong>1</strong></td><td class=\"TableCell\", id=\"B:1\" contenteditable>1</td></tr>\n",
              "    </table>\n",
              "    \n",
              "    <script>\n",
              "    document.querySelectorAll(\"td[contenteditable]\").forEach(function (element) {\n",
              "      element.addEventListener(\"input\", function (e) {\n",
              "        const val = e.target.innerText;\n",
              "        const id = e.target.id;\n",
              "        google.colab.kernel.invokeFunction(\"setVal\", [val, id], {});\n",
              "      });\n",
              "    });\n",
              "    </script>\n",
              "    "
            ]
          },
          "metadata": {},
          "execution_count": 15
        }
      ]
    },
    {
      "cell_type": "code",
      "source": [
        "# NOTICE: the output of table.select is SubTable e.g. new class (we we examin it later)\n",
        "# for now, we want to reinitilize\n",
        "new_table1 = HandyTable(table[1:-1, 1:-1])\n",
        "new_table1"
      ],
      "metadata": {
        "colab": {
          "base_uri": "https://localhost:8080/",
          "height": 170
        },
        "id": "zafrcfPy5Soo",
        "outputId": "1443882b-436c-4aa6-eafb-25634665cbce"
      },
      "execution_count": 16,
      "outputs": [
        {
          "output_type": "execute_result",
          "data": {
            "text/plain": [
              "['', 'A', 'B']\n",
              "[0, 1, 2]\n",
              "[1, 3, 4]\n",
              "[2, 5, 6]"
            ],
            "text/html": [
              "<style>\n",
              "  .TableCell:hover {\n",
              "    background-color: #D6EEEE;\n",
              "    }\n",
              "  table, th, td {\n",
              "    padding: 10px;\n",
              "    border: 1px solid black;\n",
              "    border-collapse: collapse;\n",
              "    }\n",
              "  </style>\n",
              "  \n",
              "    <table>\n",
              "    <tr><th></th>\n",
              "<th>A</th>\n",
              "<th>B</th></tr>\n",
              "    <tr><td><strong>0</strong></td><td class=\"TableCell\", id=\"A:0\" contenteditable>1</td>\n",
              "<td class=\"TableCell\", id=\"B:0\" contenteditable>2</td></tr>\n",
              "<tr><td><strong>1</strong></td><td class=\"TableCell\", id=\"A:1\" contenteditable>3</td>\n",
              "<td class=\"TableCell\", id=\"B:1\" contenteditable>4</td></tr>\n",
              "<tr><td><strong>2</strong></td><td class=\"TableCell\", id=\"A:2\" contenteditable>5</td>\n",
              "<td class=\"TableCell\", id=\"B:2\" contenteditable>6</td></tr>\n",
              "    </table>\n",
              "    \n",
              "    <script>\n",
              "    document.querySelectorAll(\"td[contenteditable]\").forEach(function (element) {\n",
              "      element.addEventListener(\"input\", function (e) {\n",
              "        const val = e.target.innerText;\n",
              "        const id = e.target.id;\n",
              "        google.colab.kernel.invokeFunction(\"setVal\", [val, id], {});\n",
              "      });\n",
              "    });\n",
              "    </script>\n",
              "    "
            ]
          },
          "metadata": {},
          "execution_count": 16
        }
      ]
    },
    {
      "cell_type": "code",
      "source": [
        "new_table2 = HandyTable(table.select('B1-C3').matrix)\n",
        "new_table2"
      ],
      "metadata": {
        "colab": {
          "base_uri": "https://localhost:8080/",
          "height": 170
        },
        "id": "TV3Jwkt75SsN",
        "outputId": "80862266-4df7-4491-8a53-f934711b0eb0"
      },
      "execution_count": 17,
      "outputs": [
        {
          "output_type": "execute_result",
          "data": {
            "text/plain": [
              "['', 'A', 'B']\n",
              "[0, 1, 2]\n",
              "[1, 3, 4]\n",
              "[2, 5, 6]"
            ],
            "text/html": [
              "<style>\n",
              "  .TableCell:hover {\n",
              "    background-color: #D6EEEE;\n",
              "    }\n",
              "  table, th, td {\n",
              "    padding: 10px;\n",
              "    border: 1px solid black;\n",
              "    border-collapse: collapse;\n",
              "    }\n",
              "  </style>\n",
              "  \n",
              "    <table>\n",
              "    <tr><th></th>\n",
              "<th>A</th>\n",
              "<th>B</th></tr>\n",
              "    <tr><td><strong>0</strong></td><td class=\"TableCell\", id=\"A:0\" contenteditable>1</td>\n",
              "<td class=\"TableCell\", id=\"B:0\" contenteditable>2</td></tr>\n",
              "<tr><td><strong>1</strong></td><td class=\"TableCell\", id=\"A:1\" contenteditable>3</td>\n",
              "<td class=\"TableCell\", id=\"B:1\" contenteditable>4</td></tr>\n",
              "<tr><td><strong>2</strong></td><td class=\"TableCell\", id=\"A:2\" contenteditable>5</td>\n",
              "<td class=\"TableCell\", id=\"B:2\" contenteditable>6</td></tr>\n",
              "    </table>\n",
              "    \n",
              "    <script>\n",
              "    document.querySelectorAll(\"td[contenteditable]\").forEach(function (element) {\n",
              "      element.addEventListener(\"input\", function (e) {\n",
              "        const val = e.target.innerText;\n",
              "        const id = e.target.id;\n",
              "        google.colab.kernel.invokeFunction(\"setVal\", [val, id], {});\n",
              "      });\n",
              "    });\n",
              "    </script>\n",
              "    "
            ]
          },
          "metadata": {},
          "execution_count": 17
        }
      ]
    },
    {
      "cell_type": "markdown",
      "source": [
        "## Applying function to each rows/columns"
      ],
      "metadata": {
        "id": "f7q7QDw05Y26"
      }
    },
    {
      "cell_type": "code",
      "source": [
        "# let's calculate the sum value for each row and save the result in new column\n",
        "# to do that, we need to change set a function to a dump parameter\n",
        "new_table1.insert(axis='col', where=-1, dump=sum) # using built-in sum function"
      ],
      "metadata": {
        "colab": {
          "base_uri": "https://localhost:8080/",
          "height": 170
        },
        "id": "bEJ4nHUx5S1i",
        "outputId": "730222d8-1956-4e17-c5d9-17b31c2978e5"
      },
      "execution_count": 18,
      "outputs": [
        {
          "output_type": "execute_result",
          "data": {
            "text/plain": [
              "['', 'A', 'B', 'C']\n",
              "[0, 1, 2, 3]\n",
              "[1, 3, 4, 7]\n",
              "[2, 5, 6, 11]"
            ],
            "text/html": [
              "<style>\n",
              "  .TableCell:hover {\n",
              "    background-color: #D6EEEE;\n",
              "    }\n",
              "  table, th, td {\n",
              "    padding: 10px;\n",
              "    border: 1px solid black;\n",
              "    border-collapse: collapse;\n",
              "    }\n",
              "  </style>\n",
              "  \n",
              "    <table>\n",
              "    <tr><th></th>\n",
              "<th>A</th>\n",
              "<th>B</th>\n",
              "<th>C</th></tr>\n",
              "    <tr><td><strong>0</strong></td><td class=\"TableCell\", id=\"A:0\" contenteditable>1</td>\n",
              "<td class=\"TableCell\", id=\"B:0\" contenteditable>2</td>\n",
              "<td class=\"TableCell\", id=\"C:0\" contenteditable>3</td></tr>\n",
              "<tr><td><strong>1</strong></td><td class=\"TableCell\", id=\"A:1\" contenteditable>3</td>\n",
              "<td class=\"TableCell\", id=\"B:1\" contenteditable>4</td>\n",
              "<td class=\"TableCell\", id=\"C:1\" contenteditable>7</td></tr>\n",
              "<tr><td><strong>2</strong></td><td class=\"TableCell\", id=\"A:2\" contenteditable>5</td>\n",
              "<td class=\"TableCell\", id=\"B:2\" contenteditable>6</td>\n",
              "<td class=\"TableCell\", id=\"C:2\" contenteditable>11</td></tr>\n",
              "    </table>\n",
              "    \n",
              "    <script>\n",
              "    document.querySelectorAll(\"td[contenteditable]\").forEach(function (element) {\n",
              "      element.addEventListener(\"input\", function (e) {\n",
              "        const val = e.target.innerText;\n",
              "        const id = e.target.id;\n",
              "        google.colab.kernel.invokeFunction(\"setVal\", [val, id], {});\n",
              "      });\n",
              "    });\n",
              "    </script>\n",
              "    "
            ]
          },
          "metadata": {},
          "execution_count": 18
        }
      ]
    },
    {
      "cell_type": "code",
      "source": [
        "# the same goes for rows\n",
        "new_table2.insert('row', -1, sum)"
      ],
      "metadata": {
        "colab": {
          "base_uri": "https://localhost:8080/",
          "height": 209
        },
        "id": "UaQMc-NN5bBC",
        "outputId": "bcbc1ece-fffb-44ab-81cd-5dc0825beb8d"
      },
      "execution_count": 19,
      "outputs": [
        {
          "output_type": "execute_result",
          "data": {
            "text/plain": [
              "['', 'A', 'B']\n",
              "[0, 1, 2]\n",
              "[1, 3, 4]\n",
              "[2, 5, 6]\n",
              "[3, 9, 12]"
            ],
            "text/html": [
              "<style>\n",
              "  .TableCell:hover {\n",
              "    background-color: #D6EEEE;\n",
              "    }\n",
              "  table, th, td {\n",
              "    padding: 10px;\n",
              "    border: 1px solid black;\n",
              "    border-collapse: collapse;\n",
              "    }\n",
              "  </style>\n",
              "  \n",
              "    <table>\n",
              "    <tr><th></th>\n",
              "<th>A</th>\n",
              "<th>B</th></tr>\n",
              "    <tr><td><strong>0</strong></td><td class=\"TableCell\", id=\"A:0\" contenteditable>1</td>\n",
              "<td class=\"TableCell\", id=\"B:0\" contenteditable>2</td></tr>\n",
              "<tr><td><strong>1</strong></td><td class=\"TableCell\", id=\"A:1\" contenteditable>3</td>\n",
              "<td class=\"TableCell\", id=\"B:1\" contenteditable>4</td></tr>\n",
              "<tr><td><strong>2</strong></td><td class=\"TableCell\", id=\"A:2\" contenteditable>5</td>\n",
              "<td class=\"TableCell\", id=\"B:2\" contenteditable>6</td></tr>\n",
              "<tr><td><strong>3</strong></td><td class=\"TableCell\", id=\"A:3\" contenteditable>9</td>\n",
              "<td class=\"TableCell\", id=\"B:3\" contenteditable>12</td></tr>\n",
              "    </table>\n",
              "    \n",
              "    <script>\n",
              "    document.querySelectorAll(\"td[contenteditable]\").forEach(function (element) {\n",
              "      element.addEventListener(\"input\", function (e) {\n",
              "        const val = e.target.innerText;\n",
              "        const id = e.target.id;\n",
              "        google.colab.kernel.invokeFunction(\"setVal\", [val, id], {});\n",
              "      });\n",
              "    });\n",
              "    </script>\n",
              "    "
            ]
          },
          "metadata": {},
          "execution_count": 19
        }
      ]
    },
    {
      "cell_type": "code",
      "source": [
        "# let's count all elements in a row that satisfy specific condition\n",
        "# for that, let's define custom function that takes list as param and returns int, str, None or float\n",
        "def countif(arr, condition):\n",
        "  # condition should be a lambda function that returns True or False\n",
        "  return len([i for i in arr if condition(i)])"
      ],
      "metadata": {
        "id": "U8E18jj25bEk"
      },
      "execution_count": 20,
      "outputs": []
    },
    {
      "cell_type": "code",
      "source": [
        "# let's calculate all even numbers in a row\n",
        "is_even=lambda x: True if x % 2 == 0 else False\n",
        "\n",
        "new_table1.insert('col', -1, countif, condition=is_even) # we specify out custom f params"
      ],
      "metadata": {
        "colab": {
          "base_uri": "https://localhost:8080/",
          "height": 170
        },
        "id": "I1nyMb5j5bHD",
        "outputId": "a26a9fcb-4541-43d8-9a3a-ac31c747ed37"
      },
      "execution_count": 21,
      "outputs": [
        {
          "output_type": "execute_result",
          "data": {
            "text/plain": [
              "['', 'A', 'B', 'C', 'D']\n",
              "[0, 1, 2, 3, 1]\n",
              "[1, 3, 4, 7, 1]\n",
              "[2, 5, 6, 11, 1]"
            ],
            "text/html": [
              "<style>\n",
              "  .TableCell:hover {\n",
              "    background-color: #D6EEEE;\n",
              "    }\n",
              "  table, th, td {\n",
              "    padding: 10px;\n",
              "    border: 1px solid black;\n",
              "    border-collapse: collapse;\n",
              "    }\n",
              "  </style>\n",
              "  \n",
              "    <table>\n",
              "    <tr><th></th>\n",
              "<th>A</th>\n",
              "<th>B</th>\n",
              "<th>C</th>\n",
              "<th>D</th></tr>\n",
              "    <tr><td><strong>0</strong></td><td class=\"TableCell\", id=\"A:0\" contenteditable>1</td>\n",
              "<td class=\"TableCell\", id=\"B:0\" contenteditable>2</td>\n",
              "<td class=\"TableCell\", id=\"C:0\" contenteditable>3</td>\n",
              "<td class=\"TableCell\", id=\"D:0\" contenteditable>1</td></tr>\n",
              "<tr><td><strong>1</strong></td><td class=\"TableCell\", id=\"A:1\" contenteditable>3</td>\n",
              "<td class=\"TableCell\", id=\"B:1\" contenteditable>4</td>\n",
              "<td class=\"TableCell\", id=\"C:1\" contenteditable>7</td>\n",
              "<td class=\"TableCell\", id=\"D:1\" contenteditable>1</td></tr>\n",
              "<tr><td><strong>2</strong></td><td class=\"TableCell\", id=\"A:2\" contenteditable>5</td>\n",
              "<td class=\"TableCell\", id=\"B:2\" contenteditable>6</td>\n",
              "<td class=\"TableCell\", id=\"C:2\" contenteditable>11</td>\n",
              "<td class=\"TableCell\", id=\"D:2\" contenteditable>1</td></tr>\n",
              "    </table>\n",
              "    \n",
              "    <script>\n",
              "    document.querySelectorAll(\"td[contenteditable]\").forEach(function (element) {\n",
              "      element.addEventListener(\"input\", function (e) {\n",
              "        const val = e.target.innerText;\n",
              "        const id = e.target.id;\n",
              "        google.colab.kernel.invokeFunction(\"setVal\", [val, id], {});\n",
              "      });\n",
              "    });\n",
              "    </script>\n",
              "    "
            ]
          },
          "metadata": {},
          "execution_count": 21
        }
      ]
    },
    {
      "cell_type": "markdown",
      "source": [
        "## Operating with selected values"
      ],
      "metadata": {
        "id": "NMc3kbAH5iwQ"
      }
    },
    {
      "cell_type": "code",
      "source": [
        "# let's create new table\n",
        "t =  HandyTable([['B', '.'],\n",
        "                [1, 2],\n",
        "                [3, 4]])\n",
        "t"
      ],
      "metadata": {
        "colab": {
          "base_uri": "https://localhost:8080/",
          "height": 170
        },
        "id": "cFiUWw8q5gew",
        "outputId": "6f0aab5c-e806-4f8d-cc68-fc1ea933a454"
      },
      "execution_count": 22,
      "outputs": [
        {
          "output_type": "execute_result",
          "data": {
            "text/plain": [
              "['', 'A', 'B']\n",
              "[0, 'B', '.']\n",
              "[1, 1, 2]\n",
              "[2, 3, 4]"
            ],
            "text/html": [
              "<style>\n",
              "  .TableCell:hover {\n",
              "    background-color: #D6EEEE;\n",
              "    }\n",
              "  table, th, td {\n",
              "    padding: 10px;\n",
              "    border: 1px solid black;\n",
              "    border-collapse: collapse;\n",
              "    }\n",
              "  </style>\n",
              "  \n",
              "    <table>\n",
              "    <tr><th></th>\n",
              "<th>A</th>\n",
              "<th>B</th></tr>\n",
              "    <tr><td><strong>0</strong></td><td class=\"TableCell\", id=\"A:0\" contenteditable>B</td>\n",
              "<td class=\"TableCell\", id=\"B:0\" contenteditable>.</td></tr>\n",
              "<tr><td><strong>1</strong></td><td class=\"TableCell\", id=\"A:1\" contenteditable>1</td>\n",
              "<td class=\"TableCell\", id=\"B:1\" contenteditable>2</td></tr>\n",
              "<tr><td><strong>2</strong></td><td class=\"TableCell\", id=\"A:2\" contenteditable>3</td>\n",
              "<td class=\"TableCell\", id=\"B:2\" contenteditable>4</td></tr>\n",
              "    </table>\n",
              "    \n",
              "    <script>\n",
              "    document.querySelectorAll(\"td[contenteditable]\").forEach(function (element) {\n",
              "      element.addEventListener(\"input\", function (e) {\n",
              "        const val = e.target.innerText;\n",
              "        const id = e.target.id;\n",
              "        google.colab.kernel.invokeFunction(\"setVal\", [val, id], {});\n",
              "      });\n",
              "    });\n",
              "    </script>\n",
              "    "
            ]
          },
          "metadata": {},
          "execution_count": 22
        }
      ]
    },
    {
      "cell_type": "code",
      "source": [
        "# as we can see, the first row is string\n",
        "# let's change them to a number\n",
        "t.select('A0-B0').assign(0) # assigning 0 number to selected range"
      ],
      "metadata": {
        "id": "SNTpzwKm5ghf"
      },
      "execution_count": 23,
      "outputs": []
    },
    {
      "cell_type": "code",
      "source": [
        "t"
      ],
      "metadata": {
        "colab": {
          "base_uri": "https://localhost:8080/",
          "height": 170
        },
        "id": "6KtuX1Nn5gkh",
        "outputId": "3b3b9dad-0a19-44b1-fd25-e9e17ae9e2ca"
      },
      "execution_count": 24,
      "outputs": [
        {
          "output_type": "execute_result",
          "data": {
            "text/plain": [
              "['', 'A', 'B']\n",
              "[0, 0, 0]\n",
              "[1, 1, 2]\n",
              "[2, 3, 4]"
            ],
            "text/html": [
              "<style>\n",
              "  .TableCell:hover {\n",
              "    background-color: #D6EEEE;\n",
              "    }\n",
              "  table, th, td {\n",
              "    padding: 10px;\n",
              "    border: 1px solid black;\n",
              "    border-collapse: collapse;\n",
              "    }\n",
              "  </style>\n",
              "  \n",
              "    <table>\n",
              "    <tr><th></th>\n",
              "<th>A</th>\n",
              "<th>B</th></tr>\n",
              "    <tr><td><strong>0</strong></td><td class=\"TableCell\", id=\"A:0\" contenteditable>0</td>\n",
              "<td class=\"TableCell\", id=\"B:0\" contenteditable>0</td></tr>\n",
              "<tr><td><strong>1</strong></td><td class=\"TableCell\", id=\"A:1\" contenteditable>1</td>\n",
              "<td class=\"TableCell\", id=\"B:1\" contenteditable>2</td></tr>\n",
              "<tr><td><strong>2</strong></td><td class=\"TableCell\", id=\"A:2\" contenteditable>3</td>\n",
              "<td class=\"TableCell\", id=\"B:2\" contenteditable>4</td></tr>\n",
              "    </table>\n",
              "    \n",
              "    <script>\n",
              "    document.querySelectorAll(\"td[contenteditable]\").forEach(function (element) {\n",
              "      element.addEventListener(\"input\", function (e) {\n",
              "        const val = e.target.innerText;\n",
              "        const id = e.target.id;\n",
              "        google.colab.kernel.invokeFunction(\"setVal\", [val, id], {});\n",
              "      });\n",
              "    });\n",
              "    </script>\n",
              "    "
            ]
          },
          "metadata": {},
          "execution_count": 24
        }
      ]
    },
    {
      "cell_type": "code",
      "source": [
        "# Suppose, we want to count  every even value except first row's\n",
        "\n",
        "t.select('A1-B2').apply(countif, is_even) # there are 2 even numbers in selected range"
      ],
      "metadata": {
        "colab": {
          "base_uri": "https://localhost:8080/"
        },
        "id": "HNGrKoXX5pP5",
        "outputId": "2cadcfbb-2c49-44a2-ef81-ff8bcb46800a"
      },
      "execution_count": 25,
      "outputs": [
        {
          "output_type": "execute_result",
          "data": {
            "text/plain": [
              "2"
            ]
          },
          "metadata": {},
          "execution_count": 25
        }
      ]
    },
    {
      "cell_type": "markdown",
      "source": [
        "## HandyTable lead-feature: JS integration"
      ],
      "metadata": {
        "id": "n-u3VE7f5weh"
      }
    },
    {
      "cell_type": "code",
      "source": [
        "# HandyTable has one specifal feature that allows you to manipulate values by hand!\n",
        "tab = HandyTable([\n",
        "    [10, 20],\n",
        "    [30, 40],\n",
        "    [50, 60]\n",
        "])\n",
        "tab"
      ],
      "metadata": {
        "colab": {
          "base_uri": "https://localhost:8080/",
          "height": 170
        },
        "id": "oIZqb_Cz5pSW",
        "outputId": "fb958e6c-fd92-4e99-eb9d-9f6fc8f27f3c"
      },
      "execution_count": 29,
      "outputs": [
        {
          "output_type": "execute_result",
          "data": {
            "text/plain": [
              "['', 'A', 'B']\n",
              "[0, 10, 20]\n",
              "[1, 30, 40]\n",
              "[2, 50, 60]"
            ],
            "text/html": [
              "<style>\n",
              "  .TableCell:hover {\n",
              "    background-color: #D6EEEE;\n",
              "    }\n",
              "  table, th, td {\n",
              "    padding: 10px;\n",
              "    border: 1px solid black;\n",
              "    border-collapse: collapse;\n",
              "    }\n",
              "  </style>\n",
              "  \n",
              "    <table>\n",
              "    <tr><th></th>\n",
              "<th>A</th>\n",
              "<th>B</th></tr>\n",
              "    <tr><td><strong>0</strong></td><td class=\"TableCell\", id=\"A:0\" contenteditable>10</td>\n",
              "<td class=\"TableCell\", id=\"B:0\" contenteditable>20</td></tr>\n",
              "<tr><td><strong>1</strong></td><td class=\"TableCell\", id=\"A:1\" contenteditable>30</td>\n",
              "<td class=\"TableCell\", id=\"B:1\" contenteditable>40</td></tr>\n",
              "<tr><td><strong>2</strong></td><td class=\"TableCell\", id=\"A:2\" contenteditable>50</td>\n",
              "<td class=\"TableCell\", id=\"B:2\" contenteditable>60</td></tr>\n",
              "    </table>\n",
              "    \n",
              "    <script>\n",
              "    document.querySelectorAll(\"td[contenteditable]\").forEach(function (element) {\n",
              "      element.addEventListener(\"input\", function (e) {\n",
              "        const val = e.target.innerText;\n",
              "        const id = e.target.id;\n",
              "        google.colab.kernel.invokeFunction(\"setVal\", [val, id], {});\n",
              "      });\n",
              "    });\n",
              "    </script>\n",
              "    "
            ]
          },
          "metadata": {},
          "execution_count": 29
        }
      ]
    },
    {
      "cell_type": "code",
      "source": [
        "tab # you can just navigate mouse clicker to a cell and change the value"
      ],
      "metadata": {
        "colab": {
          "base_uri": "https://localhost:8080/",
          "height": 170
        },
        "id": "aTGWW8Bm5pVz",
        "outputId": "1c258ed4-e2dc-4ace-c2b0-a2700db06299"
      },
      "execution_count": 30,
      "outputs": [
        {
          "output_type": "execute_result",
          "data": {
            "text/plain": [
              "['', 'A', 'B']\n",
              "[0, 10, 20]\n",
              "[1, 30, 40]\n",
              "[2, 50, 60]"
            ],
            "text/html": [
              "<style>\n",
              "  .TableCell:hover {\n",
              "    background-color: #D6EEEE;\n",
              "    }\n",
              "  table, th, td {\n",
              "    padding: 10px;\n",
              "    border: 1px solid black;\n",
              "    border-collapse: collapse;\n",
              "    }\n",
              "  </style>\n",
              "  \n",
              "    <table>\n",
              "    <tr><th></th>\n",
              "<th>A</th>\n",
              "<th>B</th></tr>\n",
              "    <tr><td><strong>0</strong></td><td class=\"TableCell\", id=\"A:0\" contenteditable>10</td>\n",
              "<td class=\"TableCell\", id=\"B:0\" contenteditable>20</td></tr>\n",
              "<tr><td><strong>1</strong></td><td class=\"TableCell\", id=\"A:1\" contenteditable>30</td>\n",
              "<td class=\"TableCell\", id=\"B:1\" contenteditable>40</td></tr>\n",
              "<tr><td><strong>2</strong></td><td class=\"TableCell\", id=\"A:2\" contenteditable>50</td>\n",
              "<td class=\"TableCell\", id=\"B:2\" contenteditable>60</td></tr>\n",
              "    </table>\n",
              "    \n",
              "    <script>\n",
              "    document.querySelectorAll(\"td[contenteditable]\").forEach(function (element) {\n",
              "      element.addEventListener(\"input\", function (e) {\n",
              "        const val = e.target.innerText;\n",
              "        const id = e.target.id;\n",
              "        google.colab.kernel.invokeFunction(\"setVal\", [val, id], {});\n",
              "      });\n",
              "    });\n",
              "    </script>\n",
              "    "
            ]
          },
          "metadata": {},
          "execution_count": 30
        }
      ]
    },
    {
      "cell_type": "code",
      "source": [
        "tab # there are changed dynamicaly"
      ],
      "metadata": {
        "colab": {
          "base_uri": "https://localhost:8080/",
          "height": 170
        },
        "id": "HOpxQa7N500-",
        "outputId": "402a7c6e-3556-4de8-b757-4e571002de00"
      },
      "execution_count": 31,
      "outputs": [
        {
          "output_type": "execute_result",
          "data": {
            "text/plain": [
              "['', 'A', 'B']\n",
              "[0, 10, 20]\n",
              "[1, 40, 40]\n",
              "[2, 50, 60]"
            ],
            "text/html": [
              "<style>\n",
              "  .TableCell:hover {\n",
              "    background-color: #D6EEEE;\n",
              "    }\n",
              "  table, th, td {\n",
              "    padding: 10px;\n",
              "    border: 1px solid black;\n",
              "    border-collapse: collapse;\n",
              "    }\n",
              "  </style>\n",
              "  \n",
              "    <table>\n",
              "    <tr><th></th>\n",
              "<th>A</th>\n",
              "<th>B</th></tr>\n",
              "    <tr><td><strong>0</strong></td><td class=\"TableCell\", id=\"A:0\" contenteditable>10</td>\n",
              "<td class=\"TableCell\", id=\"B:0\" contenteditable>20</td></tr>\n",
              "<tr><td><strong>1</strong></td><td class=\"TableCell\", id=\"A:1\" contenteditable>40</td>\n",
              "<td class=\"TableCell\", id=\"B:1\" contenteditable>40</td></tr>\n",
              "<tr><td><strong>2</strong></td><td class=\"TableCell\", id=\"A:2\" contenteditable>50</td>\n",
              "<td class=\"TableCell\", id=\"B:2\" contenteditable>60</td></tr>\n",
              "    </table>\n",
              "    \n",
              "    <script>\n",
              "    document.querySelectorAll(\"td[contenteditable]\").forEach(function (element) {\n",
              "      element.addEventListener(\"input\", function (e) {\n",
              "        const val = e.target.innerText;\n",
              "        const id = e.target.id;\n",
              "        google.colab.kernel.invokeFunction(\"setVal\", [val, id], {});\n",
              "      });\n",
              "    });\n",
              "    </script>\n",
              "    "
            ]
          },
          "metadata": {},
          "execution_count": 31
        }
      ]
    }
  ]
}
